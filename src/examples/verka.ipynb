{
 "cells": [
  {
   "cell_type": "code",
   "execution_count": 2,
   "metadata": {
    "collapsed": true,
    "pycharm": {
     "name": "#%%\n"
    }
   },
   "outputs": [],
   "source": [
    "\n",
    "import sys, os\n",
    "\n",
    "\n",
    "sys.path.append(os.path.join(sys.path[0], '../'))\n",
    "sys.path.append(os.path.join(sys.path[0], '../../gans/'))\n",
    "\n",
    "import random\n",
    "from models.hg import HG_skeleton\n",
    "\n",
    "import matplotlib\n",
    "from matplotlib import pyplot as plt\n",
    "import time\n",
    "from dataset.toheatmap import ToGaussHeatMap, CoordToGaussSkeleton\n",
    "\n",
    "from typing import List\n",
    "import torch.utils.data\n",
    "from torch import Tensor\n",
    "from torch.utils.tensorboard import SummaryWriter\n",
    "from torchvision.utils import make_grid\n",
    "from dataset.lazy_loader import LazyLoader, Celeba\n",
    "from dataset.probmeasure import UniformMeasure2D01\n",
    "from gan.loss.stylegan import StyleGANLoss\n",
    "from gan.models.stylegan import StyleGanModel\n",
    "from gan.nn.stylegan.discriminator import Discriminator\n",
    "from gan.nn.stylegan.generator import Generator, FromStyleConditionalGenerator, HeatmapToImage\n",
    "from gan.noise.stylegan import mixing_noise\n",
    "from optim.accumulator import Accumulator\n",
    "from parameters.path import Paths\n",
    "\n",
    "\n",
    "def send_images_to_tensorboard(writer, data: Tensor, name: str, iter: int, count=8, normalize=True, range=(-1, 1)):\n",
    "    with torch.no_grad():\n",
    "        grid = make_grid(\n",
    "            data[0:count], nrow=count, padding=2, pad_value=0, normalize=normalize, range=range,\n",
    "            scale_each=False)\n",
    "        writer.add_image(name, grid, iter)\n",
    "\n",
    "\n",
    "manualSeed = 71\n",
    "random.seed(manualSeed)\n",
    "torch.manual_seed(manualSeed)\n",
    "\n",
    "batch_size = 8\n",
    "image_size = 256\n",
    "noise_size = 512\n",
    "\n",
    "device = torch.device(\"cuda:1\" if torch.cuda.is_available() else \"cpu\")\n",
    "torch.cuda.set_device(device)\n",
    "\n",
    "test_sample_z = torch.randn(8, noise_size, device=device)\n",
    "Celeba.batch_size = batch_size\n",
    "\n"
   ]
  },
  {
   "cell_type": "code",
   "execution_count": 3,
   "outputs": [
    {
     "ename": "TypeError",
     "evalue": "__init__() got an unexpected keyword argument 'input_nc'",
     "output_type": "error",
     "traceback": [
      "\u001B[0;31m---------------------------------------------------------------------------\u001B[0m",
      "\u001B[0;31mTypeError\u001B[0m                                 Traceback (most recent call last)",
      "\u001B[0;32m<ipython-input-3-890dbb8dc719>\u001B[0m in \u001B[0;36m<module>\u001B[0;34m\u001B[0m\n\u001B[1;32m     17\u001B[0m \u001B[0mskeletoner\u001B[0m \u001B[0;34m=\u001B[0m \u001B[0mCoordToGaussSkeleton\u001B[0m\u001B[0;34m(\u001B[0m\u001B[0;36m256\u001B[0m\u001B[0;34m,\u001B[0m \u001B[0;36m4\u001B[0m\u001B[0;34m)\u001B[0m\u001B[0;34m\u001B[0m\u001B[0;34m\u001B[0m\u001B[0m\n\u001B[1;32m     18\u001B[0m \u001B[0mhg\u001B[0m \u001B[0;34m=\u001B[0m \u001B[0mHG_skeleton\u001B[0m\u001B[0;34m(\u001B[0m\u001B[0mskeletoner\u001B[0m\u001B[0;34m)\u001B[0m\u001B[0;34m.\u001B[0m\u001B[0mcuda\u001B[0m\u001B[0;34m(\u001B[0m\u001B[0;34m)\u001B[0m\u001B[0;34m\u001B[0m\u001B[0;34m\u001B[0m\u001B[0m\n\u001B[0;32m---> 19\u001B[0;31m \u001B[0mhm_discriminator\u001B[0m \u001B[0;34m=\u001B[0m \u001B[0mDiscriminator\u001B[0m\u001B[0;34m(\u001B[0m\u001B[0mimage_size\u001B[0m\u001B[0;34m,\u001B[0m \u001B[0minput_nc\u001B[0m\u001B[0;34m=\u001B[0m\u001B[0;36m1\u001B[0m\u001B[0;34m)\u001B[0m\u001B[0;34m.\u001B[0m\u001B[0mcuda\u001B[0m\u001B[0;34m(\u001B[0m\u001B[0;34m)\u001B[0m\u001B[0;34m\u001B[0m\u001B[0;34m\u001B[0m\u001B[0m\n\u001B[0m\u001B[1;32m     20\u001B[0m \u001B[0;34m\u001B[0m\u001B[0m\n\u001B[1;32m     21\u001B[0m \u001B[0;34m\u001B[0m\u001B[0m\n",
      "\u001B[0;31mTypeError\u001B[0m: __init__() got an unexpected keyword argument 'input_nc'"
     ]
    }
   ],
   "source": [
    "generator = Generator(FromStyleConditionalGenerator(image_size, noise_size), n_mlp=8)\n",
    "discriminator = Discriminator(image_size)\n",
    "\n",
    "starting_model_number = 290000\n",
    "weights = torch.load(\n",
    "    f'{Paths.default.models()}/celeba_gan_256_{str(starting_model_number).zfill(6)}.pt',\n",
    "    map_location=\"cpu\"\n",
    ")\n",
    "\n",
    "discriminator.load_state_dict(weights['d'])\n",
    "generator.load_state_dict(weights['g'])\n",
    "\n",
    "heatmap2image = HeatmapToImage(generator.gen, generator.z_to_style, 1).cuda()\n",
    "discriminator = discriminator.cuda()\n",
    "\n",
    "skeletoner = CoordToGaussSkeleton(256, 4)\n",
    "hg = HG_skeleton(skeletoner).cuda()\n",
    "hm_discriminator = Discriminator(image_size, input_nc=1).cuda()\n",
    "\n",
    "\n",
    "gan_model_tuda = StyleGanModel(heatmap2image, StyleGANLoss(discriminator), (0.001, 0.0015))\n",
    "gan_model_obratno = StyleGanModel(hg, StyleGANLoss(hm_discriminator), (0.001, 0.0015))\n"
   ],
   "metadata": {
    "collapsed": false,
    "pycharm": {
     "name": "#%%\n"
    }
   }
  },
  {
   "cell_type": "code",
   "execution_count": null,
   "outputs": [],
   "source": [
    "batch = next(LazyLoader.w300().loader_train_inf)\n",
    "\n",
    "real_img = batch[\"data\"].cuda()\n",
    "landmarks = batch[\"meta\"][\"keypts_normalized\"].cuda()\n",
    "measure = UniformMeasure2D01(torch.clamp(landmarks, max=1))\n",
    "skeleton = skeletoner.forward(measure.coord).sum(1, keepdim=True)\n",
    "noise = mixing_noise(batch_size, 512, 0.9, device)\n"
   ],
   "metadata": {
    "collapsed": false,
    "pycharm": {
     "name": "#%%\n"
    }
   }
  },
  {
   "cell_type": "code",
   "execution_count": 4,
   "outputs": [
    {
     "ename": "NameError",
     "evalue": "name 'heatmap2image' is not defined",
     "output_type": "error",
     "traceback": [
      "\u001B[0;31m---------------------------------------------------------------------------\u001B[0m",
      "\u001B[0;31mNameError\u001B[0m                                 Traceback (most recent call last)",
      "\u001B[0;32m<ipython-input-4-33dae002902a>\u001B[0m in \u001B[0;36m<module>\u001B[0;34m\u001B[0m\n\u001B[1;32m      1\u001B[0m \u001B[0;34m\u001B[0m\u001B[0m\n\u001B[0;32m----> 2\u001B[0;31m \u001B[0mfake\u001B[0m\u001B[0;34m,\u001B[0m \u001B[0m_\u001B[0m \u001B[0;34m=\u001B[0m \u001B[0mheatmap2image\u001B[0m\u001B[0;34m.\u001B[0m\u001B[0mforward\u001B[0m\u001B[0;34m(\u001B[0m\u001B[0mskeleton\u001B[0m\u001B[0;34m,\u001B[0m \u001B[0mnoise\u001B[0m\u001B[0;34m)\u001B[0m\u001B[0;34m\u001B[0m\u001B[0;34m\u001B[0m\u001B[0m\n\u001B[0m\u001B[1;32m      3\u001B[0m \u001B[0;34m\u001B[0m\u001B[0m\n\u001B[1;32m      4\u001B[0m \u001B[0mgan_model_tuda\u001B[0m\u001B[0;34m.\u001B[0m\u001B[0mdiscriminator_train\u001B[0m\u001B[0;34m(\u001B[0m\u001B[0;34m[\u001B[0m\u001B[0mreal_img\u001B[0m\u001B[0;34m]\u001B[0m\u001B[0;34m,\u001B[0m \u001B[0;34m[\u001B[0m\u001B[0mfake\u001B[0m\u001B[0;34m.\u001B[0m\u001B[0mdetach\u001B[0m\u001B[0;34m(\u001B[0m\u001B[0;34m)\u001B[0m\u001B[0;34m]\u001B[0m\u001B[0;34m)\u001B[0m\u001B[0;34m\u001B[0m\u001B[0;34m\u001B[0m\u001B[0m\n\u001B[1;32m      5\u001B[0m \u001B[0mgan_model_tuda\u001B[0m\u001B[0;34m.\u001B[0m\u001B[0mgenerator_loss\u001B[0m\u001B[0;34m(\u001B[0m\u001B[0;34m[\u001B[0m\u001B[0mreal_img\u001B[0m\u001B[0;34m]\u001B[0m\u001B[0;34m,\u001B[0m \u001B[0;34m[\u001B[0m\u001B[0mfake\u001B[0m\u001B[0;34m]\u001B[0m\u001B[0;34m)\u001B[0m\u001B[0;34m.\u001B[0m\u001B[0mminimize_step\u001B[0m\u001B[0;34m(\u001B[0m\u001B[0mgan_model_tuda\u001B[0m\u001B[0;34m.\u001B[0m\u001B[0moptimizer\u001B[0m\u001B[0;34m.\u001B[0m\u001B[0mopt_min\u001B[0m\u001B[0;34m)\u001B[0m\u001B[0;34m\u001B[0m\u001B[0;34m\u001B[0m\u001B[0m\n",
      "\u001B[0;31mNameError\u001B[0m: name 'heatmap2image' is not defined"
     ]
    }
   ],
   "source": [
    "fake, _ = heatmap2image.forward(skeleton, noise)\n",
    "\n",
    "gan_model_tuda.discriminator_train([real_img], [fake.detach()])\n",
    "gan_model_tuda.generator_loss([real_img], [fake]).minimize_step(gan_model_tuda.optimizer.opt_min)"
   ],
   "metadata": {
    "collapsed": false,
    "pycharm": {
     "name": "#%%\n"
    }
   }
  },
  {
   "cell_type": "code",
   "execution_count": 5,
   "outputs": [
    {
     "ename": "NameError",
     "evalue": "name 'hg' is not defined",
     "output_type": "error",
     "traceback": [
      "\u001B[0;31m---------------------------------------------------------------------------\u001B[0m",
      "\u001B[0;31mNameError\u001B[0m                                 Traceback (most recent call last)",
      "\u001B[0;32m<ipython-input-5-3fd3b0629809>\u001B[0m in \u001B[0;36m<module>\u001B[0;34m\u001B[0m\n\u001B[1;32m      1\u001B[0m \u001B[0;34m\u001B[0m\u001B[0m\n\u001B[0;32m----> 2\u001B[0;31m \u001B[0msk_pred\u001B[0m \u001B[0;34m=\u001B[0m \u001B[0mhg\u001B[0m\u001B[0;34m.\u001B[0m\u001B[0mforward\u001B[0m\u001B[0;34m(\u001B[0m\u001B[0mreal_img\u001B[0m\u001B[0;34m)\u001B[0m\u001B[0;34m[\u001B[0m\u001B[0;34m\"skeleton\"\u001B[0m\u001B[0;34m]\u001B[0m\u001B[0;34m\u001B[0m\u001B[0;34m\u001B[0m\u001B[0m\n\u001B[0m\u001B[1;32m      3\u001B[0m \u001B[0mgan_model_obratno\u001B[0m\u001B[0;34m.\u001B[0m\u001B[0mdiscriminator_train\u001B[0m\u001B[0;34m(\u001B[0m\u001B[0;34m[\u001B[0m\u001B[0mskeleton\u001B[0m\u001B[0;34m]\u001B[0m\u001B[0;34m,\u001B[0m \u001B[0;34m[\u001B[0m\u001B[0msk_pred\u001B[0m\u001B[0;34m.\u001B[0m\u001B[0mdetach\u001B[0m\u001B[0;34m(\u001B[0m\u001B[0;34m)\u001B[0m\u001B[0;34m]\u001B[0m\u001B[0;34m)\u001B[0m\u001B[0;34m\u001B[0m\u001B[0;34m\u001B[0m\u001B[0m\n\u001B[1;32m      4\u001B[0m \u001B[0mgan_model_obratno\u001B[0m\u001B[0;34m.\u001B[0m\u001B[0mgenerator_loss\u001B[0m\u001B[0;34m(\u001B[0m\u001B[0;34m[\u001B[0m\u001B[0mskeleton\u001B[0m\u001B[0;34m]\u001B[0m\u001B[0;34m,\u001B[0m \u001B[0;34m[\u001B[0m\u001B[0msk_pred\u001B[0m\u001B[0;34m]\u001B[0m\u001B[0;34m)\u001B[0m\u001B[0;34m.\u001B[0m\u001B[0mminimize_step\u001B[0m\u001B[0;34m(\u001B[0m\u001B[0mgan_model_obratno\u001B[0m\u001B[0;34m.\u001B[0m\u001B[0moptimizer\u001B[0m\u001B[0;34m.\u001B[0m\u001B[0mopt_min\u001B[0m\u001B[0;34m)\u001B[0m\u001B[0;34m\u001B[0m\u001B[0;34m\u001B[0m\u001B[0m\n\u001B[1;32m      5\u001B[0m \u001B[0;34m\u001B[0m\u001B[0m\n",
      "\u001B[0;31mNameError\u001B[0m: name 'hg' is not defined"
     ]
    }
   ],
   "source": [
    "sk_pred = hg.forward(real_img)[\"skeleton\"]\n",
    "gan_model_obratno.discriminator_train([skeleton], [sk_pred.detach()])\n",
    "gan_model_obratno.generator_loss([skeleton], [sk_pred]).minimize_step(gan_model_obratno.optimizer.opt_min)\n"
   ],
   "metadata": {
    "collapsed": false,
    "pycharm": {
     "name": "#%%\n"
    }
   }
  },
  {
   "cell_type": "code",
   "execution_count": null,
   "outputs": [],
   "source": [],
   "metadata": {
    "collapsed": false,
    "pycharm": {
     "name": "#%%\n"
    }
   }
  }
 ],
 "metadata": {
  "kernelspec": {
   "display_name": "Python 3",
   "language": "python",
   "name": "python3"
  },
  "language_info": {
   "codemirror_mode": {
    "name": "ipython",
    "version": 2
   },
   "file_extension": ".py",
   "mimetype": "text/x-python",
   "name": "python",
   "nbconvert_exporter": "python",
   "pygments_lexer": "ipython2",
   "version": "2.7.6"
  }
 },
 "nbformat": 4,
 "nbformat_minor": 0
}