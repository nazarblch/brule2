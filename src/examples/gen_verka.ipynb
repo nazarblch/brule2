{
 "cells": [
  {
   "cell_type": "code",
   "execution_count": null,
   "metadata": {
    "collapsed": true
   },
   "outputs": [],
   "source": []
  },
  {
   "cell_type": "code",
   "execution_count": null,
   "outputs": [],
   "source": [
    "%matplotlib inline\n",
    "import matplotlib.pyplot as plt\n",
    "\n",
    "import numpy as np\n",
    "from scipy.stats import gmean\n",
    "\n",
    "import ot\n",
    "import wasserstein_smote\n",
    "\n",
    "from sklearn.model_selection import KFold, train_test_split\n",
    "\n",
    "from joblib import Parallel, delayed"
   ],
   "metadata": {
    "collapsed": false,
    "pycharm": {
     "name": "#%%\n"
    }
   }
  },
  {
   "cell_type": "code",
   "execution_count": null,
   "outputs": [],
   "source": [
    "def k_star(n):\n",
    "    return np.ceil(gmean([n**0.5, n**(1/3)])).astype(int)"
   ],
   "metadata": {
    "collapsed": false,
    "pycharm": {
     "name": "#%%\n"
    }
   }
  },
  {
   "cell_type": "code",
   "execution_count": null,
   "outputs": [],
   "source": [
    "k_star(100), k_star(300)"
   ],
   "metadata": {
    "collapsed": false,
    "pycharm": {
     "name": "#%%\n"
    }
   }
  },
  {
   "cell_type": "code",
   "execution_count": null,
   "outputs": [],
   "source": [
    "# random state\n",
    "r = 0"
   ],
   "metadata": {
    "collapsed": false,
    "pycharm": {
     "name": "#%%\n"
    }
   }
  },
  {
   "cell_type": "code",
   "execution_count": null,
   "outputs": [],
   "source": [
    "#take_n = 500\n",
    "\n",
    "X = np.load(\"../data/w300/lm_3000.npy\")\n",
    "#X = X[:take_n]\n",
    "n, m, _ = X.shape\n",
    "X.shape"
   ],
   "metadata": {
    "collapsed": false,
    "pycharm": {
     "name": "#%%\n"
    }
   }
  },
  {
   "cell_type": "code",
   "execution_count": null,
   "outputs": [],
   "source": [
    "%%time\n",
    "\n",
    "# fit oversampler to X_test\n",
    "oversampler = wasserstein_smote.Oversampling(X[:100], k=7, kernel=\"knn\", random_state=r, n_jobs=-1)\n",
    "\n",
    "# generate synthetic points to match X_train in size\n",
    "X_smote_100 = oversampler.sample(method=\"simplicial\", n=(7000,1))"
   ],
   "metadata": {
    "collapsed": false,
    "pycharm": {
     "name": "#%%\n"
    }
   }
  },
  {
   "cell_type": "code",
   "execution_count": null,
   "outputs": [],
   "source": [
    "%%time\n",
    "\n",
    "# fit oversampler to X_test\n",
    "oversampler = wasserstein_smote.Oversampling(X[:300], k=11, kernel=\"knn\", random_state=r, n_jobs=-1)\n",
    "\n",
    "# generate synthetic points to match X_train in size\n",
    "X_smote_300 = oversampler.sample(method=\"simplicial\", n=(7000,1))"
   ],
   "metadata": {
    "collapsed": false,
    "pycharm": {
     "name": "#%%\n"
    }
   }
  },
  {
   "cell_type": "code",
   "execution_count": null,
   "outputs": [],
   "source": [
    "%%time\n",
    "\n",
    "# fit oversampler to X_test\n",
    "oversampler = wasserstein_smote.Oversampling(X[:100], k=7, kernel=\"knn\", random_state=r, n_jobs=-1)\n",
    "\n",
    "# generate synthetic points to match X_train in size\n",
    "X_smote_maximal_100 = oversampler.sample(method=\"simplicial_maximal\", n=(7000,1))"
   ],
   "metadata": {
    "collapsed": false,
    "pycharm": {
     "name": "#%%\n"
    }
   }
  },
  {
   "cell_type": "code",
   "execution_count": null,
   "outputs": [],
   "source": [
    "%%time\n",
    "\n",
    "# fit oversampler to X_test\n",
    "oversampler = wasserstein_smote.Oversampling(X[:300], k=11, kernel=\"knn\", random_state=r, n_jobs=-1)\n",
    "\n",
    "# generate synthetic points to match X_train in size\n",
    "X_smote_maximal_300 = oversampler.sample(method=\"simplicial_maximal\", n=(7000,1))"
   ],
   "metadata": {
    "collapsed": false,
    "pycharm": {
     "name": "#%%\n"
    }
   }
  },
  {
   "cell_type": "code",
   "execution_count": null,
   "outputs": [],
   "source": [
    "s, alpha = 5, 0.005\n",
    "\n",
    "fig, ax = plt.subplots(nrows=1, ncols=3, figsize=(12.75, 5))\n",
    "\n",
    "ax[0].set_title(\"X[:100]\")\n",
    "ax[0].invert_yaxis()\n",
    "ax[0].scatter(X[:100,:,0], X[:100,:,1], s=s, c=\"r\", alpha=alpha * 10)\n",
    "\n",
    "ax[1].set_title(\"Simplicial kNN, k=7\")\n",
    "ax[1].invert_yaxis()\n",
    "ax[1].scatter(X_smote_100[:,:,0], X_smote_100[:,:,1], s=s, c=\"r\", alpha=alpha)\n",
    "\n",
    "ax[2].set_title(\"Simplicial maximal kNN, k=7\")\n",
    "ax[2].invert_yaxis()\n",
    "ax[2].scatter(X_smote_maximal_100[:,:,0], X_smote_maximal_100[:,:,1], s=s, c=\"r\", alpha=alpha)\n",
    "\n",
    "plt.tight_layout()\n",
    "plt.show()"
   ],
   "metadata": {
    "collapsed": false,
    "pycharm": {
     "name": "#%%\n"
    }
   }
  },
  {
   "cell_type": "code",
   "execution_count": null,
   "outputs": [],
   "source": [
    "s, alpha = 5, 0.005\n",
    "\n",
    "fig, ax = plt.subplots(nrows=1, ncols=3, figsize=(12.75, 5))\n",
    "\n",
    "ax[0].set_title(\"X[:300]\")\n",
    "ax[0].invert_yaxis()\n",
    "ax[0].scatter(X[:300,:,0], X[:300,:,1], s=s, c=\"r\", alpha=alpha * 10)\n",
    "\n",
    "ax[1].set_title(\"Simplicial kNN, k=11\")\n",
    "ax[1].invert_yaxis()\n",
    "ax[1].scatter(X_smote_300[:,:,0], X_smote_300[:,:,1], s=s, c=\"r\", alpha=alpha)\n",
    "\n",
    "ax[2].set_title(\"Simplicial maximal kNN, k=11\")\n",
    "ax[2].invert_yaxis()\n",
    "ax[2].scatter(X_smote_maximal_300[:,:,0], X_smote_maximal_300[:,:,1], s=s, c=\"r\", alpha=alpha)\n",
    "\n",
    "plt.tight_layout()\n",
    "plt.show()"
   ],
   "metadata": {
    "collapsed": false,
    "pycharm": {
     "name": "#%%\n"
    }
   }
  },
  {
   "cell_type": "code",
   "execution_count": null,
   "outputs": [],
   "source": [
    "np.save(\"../data/100_to_7000_simplicial_k7.npy\", X_smote_100)\n",
    "np.save(\"../data/100_to_7000_simplicial_maximal_k7.npy\", X_smote_maximal_100)\n",
    "\n",
    "np.save(\"../data/300_to_7000_simplicial_k11.npy\", X_smote_300)\n",
    "np.save(\"../data/300_to_7000_simplicial_maximal_k11.npy\", X_smote_maximal_300)"
   ],
   "metadata": {
    "collapsed": false,
    "pycharm": {
     "name": "#%%\n"
    }
   }
  }
 ],
 "metadata": {
  "kernelspec": {
   "display_name": "Python 3",
   "language": "python",
   "name": "python3"
  },
  "language_info": {
   "codemirror_mode": {
    "name": "ipython",
    "version": 2
   },
   "file_extension": ".py",
   "mimetype": "text/x-python",
   "name": "python",
   "nbconvert_exporter": "python",
   "pygments_lexer": "ipython2",
   "version": "2.7.6"
  }
 },
 "nbformat": 4,
 "nbformat_minor": 0
}